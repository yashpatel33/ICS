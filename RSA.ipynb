{
 "cells": [
  {
   "cell_type": "code",
   "execution_count": 1,
   "metadata": {},
   "outputs": [
    {
     "name": "stdout",
     "output_type": "stream",
     "text": [
      "Original Message:  88\n",
      "Encryption Key:  7\n",
      "Decryption Key:  23\n",
      "Encrypted Message:  11\n",
      "Decrypted Message:  88\n"
     ]
    }
   ],
   "source": [
    "from math import sqrt\n",
    "def prime(pr):\n",
    "    for i in range(2, int(sqrt(pr))):\n",
    "        if pr%i == 0:\n",
    "            return False\n",
    "    return True\n",
    "\n",
    "def gcd(x, y):\n",
    "    while(y):\n",
    "        x, y = y, x % y \n",
    "    return x\n",
    "\n",
    "import sys\n",
    "def calc_key(phi):\n",
    "    t = phi+1\n",
    "    for i in range(2, phi):\n",
    "        if prime(i) and t%i == 0:\n",
    "            e = i\n",
    "            d = int(t/e)\n",
    "            return e, d\n",
    "        if i == phi-1:\n",
    "            sys.exit(\"Can't compute keys for existing prime nos.\")\n",
    "\n",
    "p = 11\n",
    "q = 17\n",
    "n = p*q\n",
    "phi = (p-1)*(q-1)\n",
    "e, d = calc_key(phi)\n",
    "msg = 88\n",
    "encrypt_msg = pow(msg, e, n)\n",
    "decrypt_msg = pow(encrypt_msg, d, n)\n",
    "\n",
    "print(\"Original Message: \", msg)\n",
    "print(\"Encryption Key: \", e)\n",
    "print(\"Decryption Key: \", d)\n",
    "print(\"Encrypted Message: \", encrypt_msg)\n",
    "print(\"Decrypted Message: \", decrypt_msg)\n"
   ]
  },
  {
   "cell_type": "code",
   "execution_count": null,
   "metadata": {},
   "outputs": [],
   "source": []
  }
 ],
 "metadata": {
  "kernelspec": {
   "display_name": "Python 3",
   "language": "python",
   "name": "python3"
  },
  "language_info": {
   "codemirror_mode": {
    "name": "ipython",
    "version": 3
   },
   "file_extension": ".py",
   "mimetype": "text/x-python",
   "name": "python",
   "nbconvert_exporter": "python",
   "pygments_lexer": "ipython3",
   "version": "3.6.6"
  }
 },
 "nbformat": 4,
 "nbformat_minor": 2
}
